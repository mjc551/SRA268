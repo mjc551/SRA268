{
  "nbformat": 4,
  "nbformat_minor": 0,
  "metadata": {
    "colab": {
      "name": "SRA268 The good the bad the ugly.ipynb",
      "provenance": [],
      "collapsed_sections": [],
      "include_colab_link": true
    },
    "kernelspec": {
      "name": "python3",
      "display_name": "Python 3"
    }
  },
  "cells": [
    {
      "cell_type": "markdown",
      "metadata": {
        "id": "view-in-github",
        "colab_type": "text"
      },
      "source": [
        "<a href=\"https://colab.research.google.com/github/mjc551/SRA268/blob/master/SRA268_The_good_the_bad_the_ugly.ipynb\" target=\"_parent\"><img src=\"https://colab.research.google.com/assets/colab-badge.svg\" alt=\"Open In Colab\"/></a>"
      ]
    },
    {
      "cell_type": "markdown",
      "metadata": {
        "id": "Z6LQsJBU1vHd",
        "colab_type": "text"
      },
      "source": [
        "## Title: Comparing Snowfall in October, November, and December from 2000-2019"
      ]
    },
    {
      "cell_type": "markdown",
      "metadata": {
        "id": "kW6Cbvo82Sys",
        "colab_type": "text"
      },
      "source": [
        "#### Creators\n",
        "\n",
        "\n",
        "*   Trent Dempsey\n",
        "*   Mikayla Casey\n",
        "*   Bradley Bartusik \n"
      ]
    },
    {
      "cell_type": "markdown",
      "metadata": {
        "id": "cixXSM4I12Yw",
        "colab_type": "text"
      },
      "source": [
        "#Original Project (Lab Assignment 1)"
      ]
    },
    {
      "cell_type": "markdown",
      "metadata": {
        "id": "3Xny9mL615LM",
        "colab_type": "text"
      },
      "source": [
        "Analyze the amount of snow that fell a month before my birthday 11-24 and a month after. After this compare the data with other years including 2018 and 2019. Take all of this data and create a graph that allows visualization of the difference between the three years. Also show the difference between whether it was a month before or a month after."
      ]
    },
    {
      "cell_type": "markdown",
      "metadata": {
        "id": "cQSlrfVW19HW",
        "colab_type": "text"
      },
      "source": [
        "![Image of Graph](https://raw.githubusercontent.com/dempseyt23/SRA268-Spring2020/master/IMG_3417.jpg)"
      ]
    },
    {
      "cell_type": "markdown",
      "metadata": {
        "id": "NEQgzUl32GVZ",
        "colab_type": "text"
      },
      "source": [
        "In conclusion I have noticed that in comparing the three years 2019 did not have as much snow a month before and after my birthday where 2017 and 2018 did. The differences between 2017 and 2018 is that 2017 had more snow a month after where 2018 had more snow a month before. In addition to this 2018 had more snow in total when combining the month before and after. "
      ]
    },
    {
      "cell_type": "markdown",
      "metadata": {
        "id": "ROM_QFLo2KyH",
        "colab_type": "text"
      },
      "source": [
        "#Team Project 1"
      ]
    },
    {
      "cell_type": "markdown",
      "metadata": {
        "id": "Q5t3T7W-Hki8",
        "colab_type": "text"
      },
      "source": [
        "We are going to analyze the amount of snowfall for the months of October, November, and December for 20 separate years. We will take all of the data we collected and then compare the total amount of snowfall for each month of each year. We will be able to compare each of the months from the separate years to determine which month had the most snowfall. We also will be able to see the difference in months as the years have progressed. Through this visualization we should be able to see if there has been an increase, decrease, or stagnant amount of snowfall between the separate months and as the years have progressed."
      ]
    },
    {
      "cell_type": "markdown",
      "metadata": {
        "id": "YBMMWB2oHrRB",
        "colab_type": "text"
      },
      "source": [
        "#The Good\n",
        "\n"
      ]
    },
    {
      "cell_type": "code",
      "metadata": {
        "id": "L5X4nsIWI5QG",
        "colab_type": "code",
        "outputId": "652d4dd2-bdfc-4573-8fd3-197b1c5d5be2",
        "colab": {
          "base_uri": "https://localhost:8080/",
          "height": 701
        }
      },
      "source": [
        "import IPython\n",
        "IPython.display.HTML(\"<div class='tableauPlaceholder' id='viz1581087098553' style='position: relative'><noscript><a href=''><img alt=' ' src='https:&#47;&#47;public.tableau.com&#47;static&#47;images&#47;go&#47;good_15810870676820&#47;Good&#47;1_rss.png' style='border: none' /></a></noscript><object class='tableauViz'  style='display:none;'><param name='host_url' value='https%3A%2F%2Fpublic.tableau.com%2F' /> <param name='embed_code_version' value='3' /> <param name='site_root' value='' /><param name='name' value='good_15810870676820&#47;Good' /><param name='tabs' value='no' /><param name='toolbar' value='yes' /><param name='static_image' value='https:&#47;&#47;public.tableau.com&#47;static&#47;images&#47;go&#47;good_15810870676820&#47;Good&#47;1.png' /> <param name='animate_transition' value='yes' /><param name='display_static_image' value='yes' /><param name='display_spinner' value='yes' /><param name='display_overlay' value='yes' /><param name='display_count' value='yes' /><param name='filter' value='publish=yes' /></object></div>                <script type='text/javascript'>                    var divElement = document.getElementById('viz1581087098553');                    var vizElement = divElement.getElementsByTagName('object')[0];                    vizElement.style.width='100%';vizElement.style.height=(divElement.offsetWidth*0.75)+'px';                    var scriptElement = document.createElement('script');                    scriptElement.src = 'https://public.tableau.com/javascripts/api/viz_v1.js';                    vizElement.parentNode.insertBefore(scriptElement, vizElement);                </script>\")"
      ],
      "execution_count": 0,
      "outputs": [
        {
          "output_type": "execute_result",
          "data": {
            "text/html": [
              "<div class='tableauPlaceholder' id='viz1581087098553' style='position: relative'><noscript><a href=''><img alt=' ' src='https:&#47;&#47;public.tableau.com&#47;static&#47;images&#47;go&#47;good_15810870676820&#47;Good&#47;1_rss.png' style='border: none' /></a></noscript><object class='tableauViz'  style='display:none;'><param name='host_url' value='https%3A%2F%2Fpublic.tableau.com%2F' /> <param name='embed_code_version' value='3' /> <param name='site_root' value='' /><param name='name' value='good_15810870676820&#47;Good' /><param name='tabs' value='no' /><param name='toolbar' value='yes' /><param name='static_image' value='https:&#47;&#47;public.tableau.com&#47;static&#47;images&#47;go&#47;good_15810870676820&#47;Good&#47;1.png' /> <param name='animate_transition' value='yes' /><param name='display_static_image' value='yes' /><param name='display_spinner' value='yes' /><param name='display_overlay' value='yes' /><param name='display_count' value='yes' /><param name='filter' value='publish=yes' /></object></div>                <script type='text/javascript'>                    var divElement = document.getElementById('viz1581087098553');                    var vizElement = divElement.getElementsByTagName('object')[0];                    vizElement.style.width='100%';vizElement.style.height=(divElement.offsetWidth*0.75)+'px';                    var scriptElement = document.createElement('script');                    scriptElement.src = 'https://public.tableau.com/javascripts/api/viz_v1.js';                    vizElement.parentNode.insertBefore(scriptElement, vizElement);                </script>"
            ],
            "text/plain": [
              "<IPython.core.display.HTML object>"
            ]
          },
          "metadata": {
            "tags": []
          },
          "execution_count": 2
        }
      ]
    },
    {
      "cell_type": "markdown",
      "metadata": {
        "id": "ITlYgwM6Ht8K",
        "colab_type": "text"
      },
      "source": [
        "#Why It Is Good?\n",
        "We considered this graph to be good because it is concise and accurate in representing our data. We wanted to display the total amount of snowfall for the months of October, November, and December. This graph does that, in addition to providing it in a breakdown of each year. We can visually see each individual year and then each month. The months are separated by color so that it is easy to see which one is which. In addition to it being visually satisfying it is also functionally satisfying. It is easy to look at the year 2002 and gather the data for the amount of snowfall and then scroll to see data in 2015 while visually comparing the sizes of the bars correlating to each month. It is easy to navigate and easy to understand, some essential components of a good visualization."
      ]
    },
    {
      "cell_type": "markdown",
      "metadata": {
        "id": "vZ__tY4XINir",
        "colab_type": "text"
      },
      "source": [
        "#The Bad"
      ]
    },
    {
      "cell_type": "code",
      "metadata": {
        "id": "_0eP3qoh2QD0",
        "colab_type": "code",
        "outputId": "4185170e-14e4-4742-b02f-5b89bfc4f3fe",
        "colab": {
          "base_uri": "https://localhost:8080/",
          "height": 733
        }
      },
      "source": [
        "import IPython\n",
        "IPython.display.HTML(\"<div class='tableauPlaceholder' id='viz1580955047137' style='position: relative'><noscript><a href=''><img alt=' ' src='https:&#47;&#47;public.tableau.com&#47;static&#47;images&#47;go&#47;goodbackugly&#47;Bad&#47;1_rss.png' style='border: none' /></a></noscript><object class='tableauViz'  style='display:none;'><param name='host_url' value='https%3A%2F%2Fpublic.tableau.com%2F' /> <param name='embed_code_version' value='3' /> <param name='site_root' value='' /><param name='name' value='goodbackugly&#47;Bad' /><param name='tabs' value='no' /><param name='toolbar' value='yes' /><param name='static_image' value='https:&#47;&#47;public.tableau.com&#47;static&#47;images&#47;go&#47;goodbackugly&#47;Bad&#47;1.png' /> <param name='animate_transition' value='yes' /><param name='display_static_image' value='yes' /><param name='display_spinner' value='yes' /><param name='display_overlay' value='yes' /><param name='display_count' value='yes' /><param name='filter' value='publish=yes' /></object></div>                <script type='text/javascript'>                    var divElement = document.getElementById('viz1580955047137');                    var vizElement = divElement.getElementsByTagName('object')[0];                    vizElement.style.width='100%';vizElement.style.height=(divElement.offsetWidth*0.75)+'px';                    var scriptElement = document.createElement('script');                    scriptElement.src = 'https://public.tableau.com/javascripts/api/viz_v1.js';                    vizElement.parentNode.insertBefore(scriptElement, vizElement);                </script>\") "
      ],
      "execution_count": 0,
      "outputs": [
        {
          "output_type": "execute_result",
          "data": {
            "text/html": [
              "<div class='tableauPlaceholder' id='viz1580955047137' style='position: relative'><noscript><a href=''><img alt=' ' src='https:&#47;&#47;public.tableau.com&#47;static&#47;images&#47;go&#47;goodbackugly&#47;Bad&#47;1_rss.png' style='border: none' /></a></noscript><object class='tableauViz'  style='display:none;'><param name='host_url' value='https%3A%2F%2Fpublic.tableau.com%2F' /> <param name='embed_code_version' value='3' /> <param name='site_root' value='' /><param name='name' value='goodbackugly&#47;Bad' /><param name='tabs' value='no' /><param name='toolbar' value='yes' /><param name='static_image' value='https:&#47;&#47;public.tableau.com&#47;static&#47;images&#47;go&#47;goodbackugly&#47;Bad&#47;1.png' /> <param name='animate_transition' value='yes' /><param name='display_static_image' value='yes' /><param name='display_spinner' value='yes' /><param name='display_overlay' value='yes' /><param name='display_count' value='yes' /><param name='filter' value='publish=yes' /></object></div>                <script type='text/javascript'>                    var divElement = document.getElementById('viz1580955047137');                    var vizElement = divElement.getElementsByTagName('object')[0];                    vizElement.style.width='100%';vizElement.style.height=(divElement.offsetWidth*0.75)+'px';                    var scriptElement = document.createElement('script');                    scriptElement.src = 'https://public.tableau.com/javascripts/api/viz_v1.js';                    vizElement.parentNode.insertBefore(scriptElement, vizElement);                </script>"
            ],
            "text/plain": [
              "<IPython.core.display.HTML object>"
            ]
          },
          "metadata": {
            "tags": []
          },
          "execution_count": 1
        }
      ]
    },
    {
      "cell_type": "markdown",
      "metadata": {
        "id": "DszQ1tGVIRQq",
        "colab_type": "text"
      },
      "source": [
        "#Why It Is Bad?\n",
        "We considered this graph to be a bad example of a visualization for a number of reasons. The graph is vague. It is only showing the total amount of snowfall in the months of October, November and December for the years 2000-2019. It does not show individual years, which was one of the goals of our initial question. There is no way to tell the difference between 2012 or 2019. In addition to this, there is no way of knowing if October had a year where the snowfall was greater than November or December. We want to be able to see individual years and the total accumulation for each month in each of those years. Seeing the individual years and months lets us visualize better the difference between each month every year. This graph does not display that, and therefore doesn’t serve our purpose well."
      ]
    },
    {
      "cell_type": "markdown",
      "metadata": {
        "id": "NnaYvuAIIkPV",
        "colab_type": "text"
      },
      "source": [
        "#The Ugly"
      ]
    },
    {
      "cell_type": "code",
      "metadata": {
        "id": "NQXOfUYSISyG",
        "colab_type": "code",
        "outputId": "cce6ccf8-fa25-44b0-90e4-7de58c09fd52",
        "colab": {
          "base_uri": "https://localhost:8080/",
          "height": 733
        }
      },
      "source": [
        "import IPython\n",
        "IPython.display.HTML(\"<div class='tableauPlaceholder' id='viz1580955622812' style='position: relative'><noscript><a href=''><img alt=' ' src='https:&#47;&#47;public.tableau.com&#47;static&#47;images&#47;ug&#47;ugly&#47;Ugly&#47;1_rss.png' style='border: none' /></a></noscript><object class='tableauViz'  style='display:none;'><param name='host_url' value='https%3A%2F%2Fpublic.tableau.com%2F' /> <param name='embed_code_version' value='3' /> <param name='site_root' value='' /><param name='name' value='ugly&#47;Ugly' /><param name='tabs' value='no' /><param name='toolbar' value='yes' /><param name='static_image' value='https:&#47;&#47;public.tableau.com&#47;static&#47;images&#47;ug&#47;ugly&#47;Ugly&#47;1.png' /> <param name='animate_transition' value='yes' /><param name='display_static_image' value='yes' /><param name='display_spinner' value='yes' /><param name='display_overlay' value='yes' /><param name='display_count' value='yes' /><param name='filter' value='publish=yes' /></object></div>                <script type='text/javascript'>                    var divElement = document.getElementById('viz1580955622812');                    var vizElement = divElement.getElementsByTagName('object')[0];                    vizElement.style.width='100%';vizElement.style.height=(divElement.offsetWidth*0.75)+'px';                    var scriptElement = document.createElement('script');                    scriptElement.src = 'https://public.tableau.com/javascripts/api/viz_v1.js';                    vizElement.parentNode.insertBefore(scriptElement, vizElement);                </script>\")\n"
      ],
      "execution_count": 0,
      "outputs": [
        {
          "output_type": "execute_result",
          "data": {
            "text/html": [
              "<div class='tableauPlaceholder' id='viz1580955622812' style='position: relative'><noscript><a href=''><img alt=' ' src='https:&#47;&#47;public.tableau.com&#47;static&#47;images&#47;ug&#47;ugly&#47;Ugly&#47;1_rss.png' style='border: none' /></a></noscript><object class='tableauViz'  style='display:none;'><param name='host_url' value='https%3A%2F%2Fpublic.tableau.com%2F' /> <param name='embed_code_version' value='3' /> <param name='site_root' value='' /><param name='name' value='ugly&#47;Ugly' /><param name='tabs' value='no' /><param name='toolbar' value='yes' /><param name='static_image' value='https:&#47;&#47;public.tableau.com&#47;static&#47;images&#47;ug&#47;ugly&#47;Ugly&#47;1.png' /> <param name='animate_transition' value='yes' /><param name='display_static_image' value='yes' /><param name='display_spinner' value='yes' /><param name='display_overlay' value='yes' /><param name='display_count' value='yes' /><param name='filter' value='publish=yes' /></object></div>                <script type='text/javascript'>                    var divElement = document.getElementById('viz1580955622812');                    var vizElement = divElement.getElementsByTagName('object')[0];                    vizElement.style.width='100%';vizElement.style.height=(divElement.offsetWidth*0.75)+'px';                    var scriptElement = document.createElement('script');                    scriptElement.src = 'https://public.tableau.com/javascripts/api/viz_v1.js';                    vizElement.parentNode.insertBefore(scriptElement, vizElement);                </script>"
            ],
            "text/plain": [
              "<IPython.core.display.HTML object>"
            ]
          },
          "metadata": {
            "tags": []
          },
          "execution_count": 2
        }
      ]
    },
    {
      "cell_type": "markdown",
      "metadata": {
        "id": "MjmwGWTlIlOi",
        "colab_type": "text"
      },
      "source": [
        "#Why It Is Ugly?"
      ]
    },
    {
      "cell_type": "markdown",
      "metadata": {
        "id": "pnFmvQlOCguJ",
        "colab_type": "text"
      },
      "source": [
        "We determined the graph above to be considered \"Ugly” . It is clear that the graph appears and feels a little too crowded. Because of this crowding, it makes the information we wanted to display less effective. In this graph, we organized the data in each year from October to December. For example, by doing this, it could make the bars look like October has the most snow in 2002. This could cause misinformation to appear to the reader. Another example as to why this is ugly, December would always be on the bottom, November would appear in the middle and October would appear on top. So, in 2018, someone could interpret it as November had snow from a few inches to 13 inches. Meaning the month never saw a day with no snow. While it is possible to glean information from this graph and compare the data, serving our purpose, the graph is hard to look at, and therefore is \"ugly\"."
      ]
    }
  ]
}