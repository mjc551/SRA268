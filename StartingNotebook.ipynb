{
  "nbformat": 4,
  "nbformat_minor": 0,
  "metadata": {
    "colab": {
      "name": "StartingNotebook.ipynb",
      "provenance": [],
      "authorship_tag": "ABX9TyNOC6YMuE4lRC/ot+Zal/S8",
      "include_colab_link": true
    },
    "kernelspec": {
      "name": "python3",
      "display_name": "Python 3"
    }
  },
  "cells": [
    {
      "cell_type": "markdown",
      "metadata": {
        "id": "view-in-github",
        "colab_type": "text"
      },
      "source": [
        "<a href=\"https://colab.research.google.com/github/mjc551/SRA268/blob/master/StartingNotebook.ipynb\" target=\"_parent\"><img src=\"https://colab.research.google.com/assets/colab-badge.svg\" alt=\"Open In Colab\"/></a>"
      ]
    },
    {
      "cell_type": "code",
      "metadata": {
        "id": "ZjAMw6MY1uDY",
        "colab_type": "code",
        "colab": {
          "base_uri": "https://localhost:8080/",
          "height": 34
        },
        "outputId": "12a6edd3-93e0-4192-d09d-b4d9eba1bea5"
      },
      "source": [
        "2+2"
      ],
      "execution_count": 1,
      "outputs": [
        {
          "output_type": "execute_result",
          "data": {
            "text/plain": [
              "4"
            ]
          },
          "metadata": {
            "tags": []
          },
          "execution_count": 1
        }
      ]
    },
    {
      "cell_type": "markdown",
      "metadata": {
        "id": "I-2BSr-a2A4o",
        "colab_type": "text"
      },
      "source": [
        "# Section Title (Project Name)\n",
        "\n",
        "\n"
      ]
    },
    {
      "cell_type": "markdown",
      "metadata": {
        "id": "ju1GjTac5kP9",
        "colab_type": "text"
      },
      "source": [
        "#Outline (50 words minimum)"
      ]
    },
    {
      "cell_type": "markdown",
      "metadata": {
        "id": "NwEz2gvc5xCN",
        "colab_type": "text"
      },
      "source": [
        "#Sketch!\n",
        "\n",
        "![dog!](https://raw.githubusercontent.com/mjc551/SRA268/master/images/dog-451643.jpg)"
      ]
    },
    {
      "cell_type": "markdown",
      "metadata": {
        "colab_type": "text",
        "id": "28ZDduqw6KZ9"
      },
      "source": [
        "#Conclusions"
      ]
    }
  ]
}