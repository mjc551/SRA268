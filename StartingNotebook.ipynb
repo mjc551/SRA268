{
  "nbformat": 4,
  "nbformat_minor": 0,
  "metadata": {
    "colab": {
      "name": "StartingNotebook.ipynb",
      "provenance": [],
      "authorship_tag": "ABX9TyNGCz47iGuQ4HBm5cg6NBt9",
      "include_colab_link": true
    },
    "kernelspec": {
      "name": "python3",
      "display_name": "Python 3"
    }
  },
  "cells": [
    {
      "cell_type": "markdown",
      "metadata": {
        "id": "view-in-github",
        "colab_type": "text"
      },
      "source": [
        "<a href=\"https://colab.research.google.com/github/mjc551/SRA268/blob/master/StartingNotebook.ipynb\" target=\"_parent\"><img src=\"https://colab.research.google.com/assets/colab-badge.svg\" alt=\"Open In Colab\"/></a>"
      ]
    },
    {
      "cell_type": "markdown",
      "metadata": {
        "id": "I-2BSr-a2A4o",
        "colab_type": "text"
      },
      "source": [
        "# Precipitation and Temperature in State College Over Time\n",
        "\n",
        "\n"
      ]
    },
    {
      "cell_type": "markdown",
      "metadata": {
        "id": "ju1GjTac5kP9",
        "colab_type": "text"
      },
      "source": [
        "#Outline\n",
        "This project will explore the link between precipitation, date, and temperature over a period of 2 years, using all available data from 2017 and 2018. The data was collected from the NOAA. The goal of this project is to visualize the precipitation amount and type as a trend related to seasons. Each year will be represented with a different color, and the different types of precipitation (precipitation under 32 degrees vs. precipitation above 32 degrees) will be represented by different shaped data points that will only appear when selected.   "
      ]
    },
    {
      "cell_type": "markdown",
      "metadata": {
        "id": "NwEz2gvc5xCN",
        "colab_type": "text"
      },
      "source": [
        "#Initial Sketch\n",
        "![The proposed image of what the precipitation visualization will look like](https://raw.githubusercontent.com/mjc551/SRA268/master/images/precipitation%20graph.jpg)\n"
      ]
    },
    {
      "cell_type": "markdown",
      "metadata": {
        "colab_type": "text",
        "id": "28ZDduqw6KZ9"
      },
      "source": [
        "#Conclusions\n",
        "\n",
        "This visualization concluded that there was more precipitation in the winter months, especially snow (as expected). The visualization also concluded that the level of precipitation was relatively low both years, regardless of season. Additionally, the early months in 2018 received less precipitation than 2017, while the later months of 2018 had much more precipitation and snow than in 2017. "
      ]
    }
  ]
}