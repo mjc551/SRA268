{
  "nbformat": 4,
  "nbformat_minor": 0,
  "metadata": {
    "colab": {
      "name": "Copy of Lab2Template.ipynb",
      "provenance": [],
      "include_colab_link": true
    },
    "kernelspec": {
      "name": "python3",
      "display_name": "Python 3"
    }
  },
  "cells": [
    {
      "cell_type": "markdown",
      "metadata": {
        "id": "view-in-github",
        "colab_type": "text"
      },
      "source": [
        "<a href=\"https://colab.research.google.com/github/mjc551/SRA268/blob/master/Lab2.ipynb\" target=\"_parent\"><img src=\"https://colab.research.google.com/assets/colab-badge.svg\" alt=\"Open In Colab\"/></a>"
      ]
    },
    {
      "cell_type": "markdown",
      "metadata": {
        "id": "6sOc4Uyr4U-Z",
        "colab_type": "text"
      },
      "source": [
        "## Graph Types"
      ]
    },
    {
      "cell_type": "markdown",
      "metadata": {
        "id": "0zZdVLAd5CYr",
        "colab_type": "text"
      },
      "source": [
        "Creator\n",
        "* Mikayla Casey "
      ]
    },
    {
      "cell_type": "markdown",
      "metadata": {
        "id": "g-r6Clq45Hn4",
        "colab_type": "text"
      },
      "source": [
        "### Deviation\n"
      ]
    },
    {
      "cell_type": "markdown",
      "metadata": {
        "id": "2gorxo6E7A0t",
        "colab_type": "text"
      },
      "source": [
        "![alt text](https://raw.githubusercontent.com/mjc551/SRA268/master/Deviation.png)"
      ]
    },
    {
      "cell_type": "markdown",
      "metadata": {
        "id": "w6bZ_NEi7E3w",
        "colab_type": "text"
      },
      "source": [
        "#### What is this telling us?"
      ]
    },
    {
      "cell_type": "markdown",
      "metadata": {
        "id": "95L-spaC7QHF",
        "colab_type": "text"
      },
      "source": [
        "This graph shows us how each phylum group differs from one another in terms of how many times they lost compared to the average number of times lost for the season. The use of a diverging bar chart here easily reveals which phylum loses the least (Chordata) in contrast to which phylum loses the most (Reptilia). By using an average rather than a count of all the losses, we can account for the phylums being different sizes - i.e. there being more teams in the Chordata phylum than in another phylum. Additionally, by setting the overall average number of losses (17.42) equal to zero, we can more clearly see that the spread of average losses by phylum varies greatly, with a deviance of roughly 15 losses on each side."
      ]
    },
    {
      "cell_type": "markdown",
      "metadata": {
        "id": "YgXyXjmz7cDP",
        "colab_type": "text"
      },
      "source": [
        "### Correlation\n"
      ]
    },
    {
      "cell_type": "markdown",
      "metadata": {
        "id": "SGx15rZq7hvt",
        "colab_type": "text"
      },
      "source": [
        "![alt text](https://raw.githubusercontent.com/mjc551/SRA268/master/Correlation2.png)"
      ]
    },
    {
      "cell_type": "markdown",
      "metadata": {
        "id": "dljjONNi7jmj",
        "colab_type": "text"
      },
      "source": [
        "#### What is this telling us?"
      ]
    },
    {
      "cell_type": "markdown",
      "metadata": {
        "id": "PwZEZrFB7laG",
        "colab_type": "text"
      },
      "source": [
        "This graph shows us the correlation between average lose points for each phylum and the different win seeds. By looking at this graph, we can see that as the Winning Seed, or level at which the team is playing, increases, so too does the average number of points scored by the losing team. Since the losing team by definition scored fewer points than the winning team, we can see that in general, the minimum number of points scored in the game increases as teams increase in seed, regardless of phylum. By adding the color coding to show the phylum types, we can further see which phylums were seeded highly in general and compare each to the amount of points lost on average. "
      ]
    },
    {
      "cell_type": "markdown",
      "metadata": {
        "id": "MqUdI-uL7r2s",
        "colab_type": "text"
      },
      "source": [
        "### Ranking\n"
      ]
    },
    {
      "cell_type": "markdown",
      "metadata": {
        "id": "AvlxCOVt7x9F",
        "colab_type": "text"
      },
      "source": [
        "![alt text](https://raw.githubusercontent.com/mjc551/SRA268/master/Ranking2.png)"
      ]
    },
    {
      "cell_type": "markdown",
      "metadata": {
        "id": "lCAYtfza7yTq",
        "colab_type": "text"
      },
      "source": [
        "#### What is this telling us?"
      ]
    },
    {
      "cell_type": "markdown",
      "metadata": {
        "id": "MyuciD277ygU",
        "colab_type": "text"
      },
      "source": [
        "This ordered bar chart shows us the rankings of average point differential for each losing tax phylum, in descending order. This demonstrates how every losing tax phylum, despite its losses, competed in the round in which it lost. A bar with a smaller point differential indicates that, on average, the teams within this phylum were close matchups for one another; the game was a suspenseful one. The average point differential is calculated by subtracting the average losing points from average winning points for the rounds. With this ranking, we can see that the poorest matchup rounds impacted the Reptilia phylum; that is to say, teams in the Reptilia phylum most often encountered teams that outperformed them, on average. On the other end, we can see that the Magnoliophyta phylum had the smallest point differential, on average, with close calls in many of the games that it played. "
      ]
    },
    {
      "cell_type": "markdown",
      "metadata": {
        "id": "dGDGl8-G7y8Y",
        "colab_type": "text"
      },
      "source": [
        "### Distribution\n"
      ]
    },
    {
      "cell_type": "markdown",
      "metadata": {
        "id": "FB0uV-jy76p9",
        "colab_type": "text"
      },
      "source": [
        "![alt text](https://raw.githubusercontent.com/mjc551/SRA268/master/Distribution.png)"
      ]
    },
    {
      "cell_type": "markdown",
      "metadata": {
        "id": "_6SOzhrQ76zH",
        "colab_type": "text"
      },
      "source": [
        "#### What is this telling us?"
      ]
    },
    {
      "cell_type": "markdown",
      "metadata": {
        "id": "HBWqsS_g767h",
        "colab_type": "text"
      },
      "source": [
        "This histogram shows the distribution of the number of points earned by the losing team in a round. The graph shows the frequency of the given point range, based on bin sizing. From this graph, we can determine that the most frequent amount of points earned by the losing team of a round is within the range of 60-65. Looking at the graph, we can tell that the distribution is relatively normal, though we can see a notable outlier between the 115 and 120 range. This data point is interesting in how high it is despite its categorization as a loss, and the display of the graph in this manner allows us to see that outlier and compare it to the frequency of the other bins. "
      ]
    },
    {
      "cell_type": "markdown",
      "metadata": {
        "id": "wQsDThk677Fy",
        "colab_type": "text"
      },
      "source": [
        "### Change over Time\n"
      ]
    },
    {
      "cell_type": "markdown",
      "metadata": {
        "id": "Z1j_YLOA7_OK",
        "colab_type": "text"
      },
      "source": [
        "![alt text](https://raw.githubusercontent.com/mjc551/SRA268/master/Change%20Over%20Time.png)"
      ]
    },
    {
      "cell_type": "markdown",
      "metadata": {
        "id": "mpfsmmgi7_Vj",
        "colab_type": "text"
      },
      "source": [
        "#### What is this telling us?"
      ]
    },
    {
      "cell_type": "markdown",
      "metadata": {
        "id": "rYLXoMMO7_di",
        "colab_type": "text"
      },
      "source": [
        "This graph shows us the change over time in terms of average points scored by the losing team by academic year. The graph contains all of the data located in the original dataset, and displays the changes in 2 year increments. With this graph, we can see that there is a bit of change between every year, but not much. The number of points scored by the losing team generally scores between 60 and 70 points in the game in which they lost (with only a few years between 1986 and 1989 having a higher average loss score in the high 70s to mid 80s). This graph is useful in seeing the overall average score for the losing team while seeing upwards and downward trends over time. "
      ]
    },
    {
      "cell_type": "markdown",
      "metadata": {
        "id": "lFwiHoE-7_jZ",
        "colab_type": "text"
      },
      "source": [
        "### Magnitude\n"
      ]
    },
    {
      "cell_type": "markdown",
      "metadata": {
        "id": "ICQFnXj78EbF",
        "colab_type": "text"
      },
      "source": [
        "![alt text](https://raw.githubusercontent.com/mjc551/SRA268/master/Magnitude3.png)"
      ]
    },
    {
      "cell_type": "markdown",
      "metadata": {
        "id": "QGG7XYG88Eii",
        "colab_type": "text"
      },
      "source": [
        "#### What is this telling us?"
      ]
    },
    {
      "cell_type": "markdown",
      "metadata": {
        "id": "VS7uGa0l8Eos",
        "colab_type": "text"
      },
      "source": [
        "This side by side bar chart shows us the differences in points gained by the Aggies in rounds that they lost and compares it to points gained by the Aggies in rounds that they won. The chart displays the magnitude of points gained in each category and compares it within the year. Looking at this chart, we can determine how good, bad, or average the season was by comparing the two bars. For example, a year with a large Win Points bar but a small Lose Points bar shows that the year was particularly successful for the Aggies, as they won many more games with many more points than they did lose games, and vice versa for losses larger than wins. Alternatively, a small differential between the two bars demonstrates that the season was relatively average, as wins and losses were roughly the same. Furthermore, even if the height of bars themselves within the year are similar, we can compare within years to demonstrate how an average or losing season can still be impressive based on the height of the bars themselves (number of points gained in won and lost games).  "
      ]
    },
    {
      "cell_type": "markdown",
      "metadata": {
        "id": "bEKFxP8R8Evk",
        "colab_type": "text"
      },
      "source": [
        "### Part-to-Whole\n"
      ]
    },
    {
      "cell_type": "markdown",
      "metadata": {
        "id": "WFHlcYKV8E35",
        "colab_type": "text"
      },
      "source": [
        "![alt text](https://raw.githubusercontent.com/mjc551/SRA268/master/Part-to-Whole.png)"
      ]
    },
    {
      "cell_type": "markdown",
      "metadata": {
        "id": "PNSd3wlp8UZH",
        "colab_type": "text"
      },
      "source": [
        "#### What is this telling us?"
      ]
    },
    {
      "cell_type": "markdown",
      "metadata": {
        "id": "y9tb_QRA8aqt",
        "colab_type": "text"
      },
      "source": [
        "This graph is similar to the Distribution graph described above but provides more insight into other subcategories. This Distribution chart demonstrates the frequency of a certain amount of points earned in a lost game, just as the chart above did. However, the colors and stacked bars within this chart further provide insight into individual regions within the competition. We can compare how Region W had a smaller deviation in points earned in a lost game, with the blue bars mainly appearing in the center of the histogram, whereas Region Y and Z were more spread out, with instances of points earned in lost games at both extremes of the histogram. "
      ]
    }
  ]
}